{
 "cells": [
  {
   "cell_type": "code",
   "execution_count": 10,
   "id": "8ba5db59",
   "metadata": {},
   "outputs": [
    {
     "ename": "ValueError",
     "evalue": "tile cannot extend outside image",
     "output_type": "error",
     "traceback": [
      "\u001b[1;31m---------------------------------------------------------------------------\u001b[0m",
      "\u001b[1;31mValueError\u001b[0m                                Traceback (most recent call last)",
      "Cell \u001b[1;32mIn[10], line 85\u001b[0m\n\u001b[0;32m     83\u001b[0m ip \u001b[38;5;241m=\u001b[39m ImageProcessor(\u001b[38;5;124m'\u001b[39m\u001b[38;5;124mDocuments/EO_Browser_images_uint16\u001b[39m\u001b[38;5;124m'\u001b[39m)\n\u001b[0;32m     84\u001b[0m cropped_image \u001b[38;5;241m=\u001b[39m ip\u001b[38;5;241m.\u001b[39mprocess_image(\u001b[38;5;241m44.4261111\u001b[39m, \u001b[38;5;241m8.88861111111111\u001b[39m)\n\u001b[1;32m---> 85\u001b[0m ip\u001b[38;5;241m.\u001b[39msave_image(cropped_image, \u001b[38;5;124m'\u001b[39m\u001b[38;5;124mPycharmProjects/RousselEOnsight/pont_crop.png\u001b[39m\u001b[38;5;124m'\u001b[39m)\n",
      "Cell \u001b[1;32mIn[10], line 78\u001b[0m, in \u001b[0;36mImageProcessor.save_image\u001b[1;34m(self, image, path)\u001b[0m\n\u001b[0;32m     76\u001b[0m \u001b[38;5;28;01mdef\u001b[39;00m \u001b[38;5;21msave_image\u001b[39m(\u001b[38;5;28mself\u001b[39m, image, path):\n\u001b[0;32m     77\u001b[0m     \u001b[38;5;66;03m# Afficher et sauvarger l'image rognée\u001b[39;00m\n\u001b[1;32m---> 78\u001b[0m     im \u001b[38;5;241m=\u001b[39m Image\u001b[38;5;241m.\u001b[39mfromarray(image, \u001b[38;5;124m'\u001b[39m\u001b[38;5;124mRGB\u001b[39m\u001b[38;5;124m'\u001b[39m)\n\u001b[0;32m     79\u001b[0m     im\u001b[38;5;241m.\u001b[39msave(path)\n\u001b[0;32m     80\u001b[0m     im\u001b[38;5;241m.\u001b[39mshow()\n",
      "File \u001b[1;32m~\\anaconda3\\envs\\pygdal\\Lib\\site-packages\\PIL\\Image.py:3112\u001b[0m, in \u001b[0;36mfromarray\u001b[1;34m(obj, mode)\u001b[0m\n\u001b[0;32m   3109\u001b[0m     \u001b[38;5;28;01melse\u001b[39;00m:\n\u001b[0;32m   3110\u001b[0m         obj \u001b[38;5;241m=\u001b[39m obj\u001b[38;5;241m.\u001b[39mtostring()\n\u001b[1;32m-> 3112\u001b[0m \u001b[38;5;28;01mreturn\u001b[39;00m frombuffer(mode, size, obj, \u001b[38;5;124m\"\u001b[39m\u001b[38;5;124mraw\u001b[39m\u001b[38;5;124m\"\u001b[39m, rawmode, \u001b[38;5;241m0\u001b[39m, \u001b[38;5;241m1\u001b[39m)\n",
      "File \u001b[1;32m~\\anaconda3\\envs\\pygdal\\Lib\\site-packages\\PIL\\Image.py:3028\u001b[0m, in \u001b[0;36mfrombuffer\u001b[1;34m(mode, size, data, decoder_name, *args)\u001b[0m\n\u001b[0;32m   3025\u001b[0m         im\u001b[38;5;241m.\u001b[39mreadonly \u001b[38;5;241m=\u001b[39m \u001b[38;5;241m1\u001b[39m\n\u001b[0;32m   3026\u001b[0m         \u001b[38;5;28;01mreturn\u001b[39;00m im\n\u001b[1;32m-> 3028\u001b[0m \u001b[38;5;28;01mreturn\u001b[39;00m frombytes(mode, size, data, decoder_name, args)\n",
      "File \u001b[1;32m~\\anaconda3\\envs\\pygdal\\Lib\\site-packages\\PIL\\Image.py:2970\u001b[0m, in \u001b[0;36mfrombytes\u001b[1;34m(mode, size, data, decoder_name, *args)\u001b[0m\n\u001b[0;32m   2967\u001b[0m     args \u001b[38;5;241m=\u001b[39m mode\n\u001b[0;32m   2969\u001b[0m im \u001b[38;5;241m=\u001b[39m new(mode, size)\n\u001b[1;32m-> 2970\u001b[0m im\u001b[38;5;241m.\u001b[39mfrombytes(data, decoder_name, args)\n\u001b[0;32m   2971\u001b[0m \u001b[38;5;28;01mreturn\u001b[39;00m im\n",
      "File \u001b[1;32m~\\anaconda3\\envs\\pygdal\\Lib\\site-packages\\PIL\\Image.py:821\u001b[0m, in \u001b[0;36mImage.frombytes\u001b[1;34m(self, data, decoder_name, *args)\u001b[0m\n\u001b[0;32m    819\u001b[0m \u001b[38;5;66;03m# unpack data\u001b[39;00m\n\u001b[0;32m    820\u001b[0m d \u001b[38;5;241m=\u001b[39m _getdecoder(\u001b[38;5;28mself\u001b[39m\u001b[38;5;241m.\u001b[39mmode, decoder_name, args)\n\u001b[1;32m--> 821\u001b[0m d\u001b[38;5;241m.\u001b[39msetimage(\u001b[38;5;28mself\u001b[39m\u001b[38;5;241m.\u001b[39mim)\n\u001b[0;32m    822\u001b[0m s \u001b[38;5;241m=\u001b[39m d\u001b[38;5;241m.\u001b[39mdecode(data)\n\u001b[0;32m    824\u001b[0m \u001b[38;5;28;01mif\u001b[39;00m s[\u001b[38;5;241m0\u001b[39m] \u001b[38;5;241m>\u001b[39m\u001b[38;5;241m=\u001b[39m \u001b[38;5;241m0\u001b[39m:\n",
      "\u001b[1;31mValueError\u001b[0m: tile cannot extend outside image"
     ]
    }
   ],
   "source": [
    "from osgeo import gdal, osr, gdalconst\n",
    "import numpy as np\n",
    "from PIL import Image\n",
    "import pyproj\n",
    "\n",
    "# Spécifier le CRS de référence de l'image\n",
    "image_crs = 'EPSG:4326'  # WGS 84\n",
    "\n",
    "class ImageProcessor:\n",
    "    def __init__(self, path):\n",
    "        self.path = path\n",
    "        # Chargement des bandes\n",
    "        self.red_band = gdal.Open(f\"{path}/2022-04-16-00[]00_2022-04-16-23[]59_Sentinel-2_L2A_B04_(Raw).tiff\")\n",
    "        self.green_band = gdal.Open(f\"{path}/2022-04-16-00[]00_2022-04-16-23[]59_Sentinel-2_L2A_B03_(Raw).tiff\")\n",
    "        self.blue_band = gdal.Open(f\"{path}/2022-04-16-00[]00_2022-04-16-23[]59_Sentinel-2_L2A_B02_(Raw).tiff\")\n",
    "        self.geotransform = self.red_band.GetGeoTransform()\n",
    "\n",
    "    def normalize_array(self, array):\n",
    "        #normalisation des array\n",
    "        return array * 255.0 / array.max()\n",
    "\n",
    "    def clip_array(self, array):\n",
    "        #modification du contraste\n",
    "        return (array).clip(0, 255)\n",
    "\n",
    "    def process_image(self, lat, lon):\n",
    "        # Lecture des tableaux numpy correspondant à chaque image\n",
    "        array_r = self.red_band.ReadAsArray().astype(np.float32)[0]\n",
    "        array_g = self.green_band.ReadAsArray().astype(np.float32)[0]\n",
    "        array_b = self.blue_band.ReadAsArray().astype(np.float32)[0]\n",
    "\n",
    "        # Normalisation des valeurs\n",
    "        array_r = self.normalize_array(array_r)\n",
    "        array_g = self.normalize_array(array_g)\n",
    "        array_b = self.normalize_array(array_b)\n",
    "\n",
    "        # Appliquer un bon niveau de contraste aux données\n",
    "        array_r = self.clip_array(array_r)\n",
    "        array_g = self.clip_array(array_g)\n",
    "        array_b = self.clip_array(array_b)\n",
    "\n",
    "        # Empiler les tableaux numpy des 3 images de la bande\n",
    "        rgb_image = np.dstack((array_r, array_g, array_b))\n",
    "        # Conversion en uint8\n",
    "        rgb_image = rgb_image.astype(np.uint8)\n",
    "\n",
    "        # Créer un objet SpatialReference pour le système de coordonnées de l'image\n",
    "        srs = osr.SpatialReference()\n",
    "        srs.ImportFromWkt(self.red_band.GetProjection())\n",
    "\n",
    "        # Transformer les coordonnées en coordonnées de l'image\n",
    "        lonlat = np.array([[lon, lat]])\n",
    "        lonlat_srs = osr.SpatialReference()\n",
    "        lonlat_srs.ImportFromEPSG(4326)  # Système de coordonnées WGS 84\n",
    "        lonlat_srs.SetAxisMappingStrategy(osr.OAMS_TRADITIONAL_GIS_ORDER)\n",
    "        transform = osr.CoordinateTransformation(lonlat_srs, srs)\n",
    "        x, y, _ = transform.TransformPoints(lonlat)[0]\n",
    "\n",
    "        # Récupération du carré autour du pont\n",
    "        image_height, image_width, _ = rgb_image.shape\n",
    "        x = int((x - self.geotransform[0]) / self.geotransform[1])  # conversion des coordonnées x et y en pixels\n",
    "        y = int((y - self.geotransform[3]) / self.geotransform[5])\n",
    "\n",
    "        # Calculer les limites du carré de 2 km x 2 km\n",
    "        pixel_size = self.geotransform[1]\n",
    "        half_size = int(2000 / pixel_size)\n",
    "        xmin = max(0, x - half_size)\n",
    "        ymin = max(0, y - half_size)\n",
    "        xmax = min(image_width, x + half_size)\n",
    "        ymax = min(image_height, y + half_size)\n",
    "\n",
    "        # Rogner l'image\n",
    "        cropped_image = rgb_image[ymin:ymax, xmin:xmax, :]\n",
    "        return cropped_image\n",
    "\n",
    "    def save_image(self, image, path):\n",
    "        # Afficher et sauvarger l'image rognée\n",
    "        im = Image.fromarray(image, 'RGB')\n",
    "        im.save(path)\n",
    "        im.show()\n",
    "\n",
    "if __name__ == '__main__':\n",
    "    ip = ImageProcessor('Documents/EO_Browser_images_uint16')\n",
    "    cropped_image = ip.process_image(44.4261111, 8.88861111111111)\n",
    "    ip.save_image(cropped_image, 'PycharmProjects/RousselEOnsight/pont_crop.png')"
   ]
  },
  {
   "cell_type": "code",
   "execution_count": 7,
   "id": "b402fc7a",
   "metadata": {},
   "outputs": [
    {
     "name": "stdout",
     "output_type": "stream",
     "text": [
      "C:\\Users\\thiba\n"
     ]
    }
   ],
   "source": []
  },
  {
   "cell_type": "code",
   "execution_count": null,
   "id": "f0b80761",
   "metadata": {},
   "outputs": [],
   "source": []
  }
 ],
 "metadata": {
  "kernelspec": {
   "display_name": "pygdal",
   "language": "python",
   "name": "pygdal"
  },
  "language_info": {
   "codemirror_mode": {
    "name": "ipython",
    "version": 3
   },
   "file_extension": ".py",
   "mimetype": "text/x-python",
   "name": "python",
   "nbconvert_exporter": "python",
   "pygments_lexer": "ipython3",
   "version": "3.11.2"
  }
 },
 "nbformat": 4,
 "nbformat_minor": 5
}
